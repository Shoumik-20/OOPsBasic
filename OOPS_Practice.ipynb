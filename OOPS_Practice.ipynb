{
  "nbformat": 4,
  "nbformat_minor": 0,
  "metadata": {
    "colab": {
      "provenance": []
    },
    "kernelspec": {
      "name": "python3",
      "display_name": "Python 3"
    },
    "language_info": {
      "name": "python"
    }
  },
  "cells": [
    {
      "cell_type": "markdown",
      "source": [
        "## Objected Oriented Programming\n",
        "* https://realpython.com/python3-object-oriented-programming/"
      ],
      "metadata": {
        "id": "IaSCCqC40kzO"
      }
    },
    {
      "cell_type": "markdown",
      "source": [
        "#### Defining a class"
      ],
      "metadata": {
        "id": "DxuyZLfC4iS7"
      }
    },
    {
      "cell_type": "code",
      "source": [
        "class Dog:\n",
        "  def __init__(self, name, age):\n",
        "    # Class attributes - same value for every class instance\n",
        "    species = \"Canis familiaris\"\n",
        "    # Instance attributes\n",
        "    self.name = name        \n",
        "    self.age = age"
      ],
      "metadata": {
        "id": "r9YbSh-x1Z87"
      },
      "execution_count": null,
      "outputs": []
    },
    {
      "cell_type": "markdown",
      "source": [
        "#### Instantiate an Object in Python"
      ],
      "metadata": {
        "id": "kDueLiFF4tEd"
      }
    },
    {
      "cell_type": "code",
      "source": [
        "class Doggy:\n",
        "  pass"
      ],
      "metadata": {
        "id": "Ad1dCrWL48r8"
      },
      "execution_count": null,
      "outputs": []
    },
    {
      "cell_type": "code",
      "source": [
        "Doggy()"
      ],
      "metadata": {
        "colab": {
          "base_uri": "https://localhost:8080/"
        },
        "id": "15GmAEfq5F0E",
        "outputId": "8769f837-5e78-4b5c-86b9-466a82bcf8e3"
      },
      "execution_count": null,
      "outputs": [
        {
          "output_type": "execute_result",
          "data": {
            "text/plain": [
              "<__main__.Doggy at 0x7f08e49fad30>"
            ]
          },
          "metadata": {},
          "execution_count": 6
        }
      ]
    },
    {
      "cell_type": "code",
      "source": [
        "Doggy()"
      ],
      "metadata": {
        "colab": {
          "base_uri": "https://localhost:8080/"
        },
        "id": "8E3-059L5T3p",
        "outputId": "0f887277-be87-4ff9-a485-abbd93b147a8"
      },
      "execution_count": null,
      "outputs": [
        {
          "output_type": "execute_result",
          "data": {
            "text/plain": [
              "<__main__.Doggy at 0x7f08e49dd9a0>"
            ]
          },
          "metadata": {},
          "execution_count": 7
        }
      ]
    },
    {
      "cell_type": "code",
      "source": [
        "a = Doggy()\n",
        "b = Doggy()\n",
        "a == b"
      ],
      "metadata": {
        "colab": {
          "base_uri": "https://localhost:8080/"
        },
        "id": "IZuKtdWw5Zeh",
        "outputId": "d12f2197-b958-4564-96f1-7fc00851a00a"
      },
      "execution_count": null,
      "outputs": [
        {
          "output_type": "execute_result",
          "data": {
            "text/plain": [
              "False"
            ]
          },
          "metadata": {},
          "execution_count": 8
        }
      ]
    },
    {
      "cell_type": "markdown",
      "source": [
        "#### Class and Instance Attributes"
      ],
      "metadata": {
        "id": "5bWE_5q05iBc"
      }
    },
    {
      "cell_type": "code",
      "source": [
        "buddy = Dog(\"Buddy\",9)\n",
        "miles = Dog(\"Miles\",4)"
      ],
      "metadata": {
        "id": "dD_Hnxw25uHH"
      },
      "execution_count": null,
      "outputs": []
    },
    {
      "cell_type": "code",
      "source": [
        "print(buddy.name, buddy.age)\n",
        "print(miles.name, miles.age)"
      ],
      "metadata": {
        "colab": {
          "base_uri": "https://localhost:8080/"
        },
        "id": "Rot3EbKH6Hu8",
        "outputId": "18011dd7-24d3-4d28-9c85-aa5ed744d667"
      },
      "execution_count": null,
      "outputs": [
        {
          "output_type": "stream",
          "name": "stdout",
          "text": [
            "Buddy 9\n",
            "Miles 4\n"
          ]
        }
      ]
    },
    {
      "cell_type": "markdown",
      "source": [
        "Changing values of attributes"
      ],
      "metadata": {
        "id": "Lpf5h8wk6RHk"
      }
    },
    {
      "cell_type": "code",
      "source": [
        "buddy.age = 10\n",
        "print(buddy.age)\n",
        "miles.species = \"Felis silvestris\"\n",
        "print(miles.species)"
      ],
      "metadata": {
        "colab": {
          "base_uri": "https://localhost:8080/"
        },
        "id": "hnmKgMCE6euu",
        "outputId": "5d2acb21-fa21-4476-d84c-18d71fd2198f"
      },
      "execution_count": null,
      "outputs": [
        {
          "output_type": "stream",
          "name": "stdout",
          "text": [
            "10\n",
            "Felis silvestris\n"
          ]
        }
      ]
    },
    {
      "cell_type": "markdown",
      "source": [
        "#### Instance Methods"
      ],
      "metadata": {
        "id": "jppv17CF6n2X"
      }
    },
    {
      "cell_type": "code",
      "source": [
        "class Dog:\n",
        "  species = \"Canis familiaris\"\n",
        "\n",
        "  def __init__(self, name, age):\n",
        "    self.name = name\n",
        "    self.age = age\n",
        "\n",
        "  # Instance method\n",
        "  def description(self):\n",
        "    return(\"{} is {} years old\".format(self.name, self.age))\n",
        "\n",
        "  def speak(self, sound):\n",
        "    return(\"{} says {}\".format(self.name, sound))\n"
      ],
      "metadata": {
        "id": "tsPsztTU7AKN"
      },
      "execution_count": null,
      "outputs": []
    },
    {
      "cell_type": "code",
      "source": [
        "miles = Dog(\"Miles\",4)\n",
        "\n",
        "print(miles.description())\n",
        "\n",
        "print(miles.speak(\"Woof Woof\"))\n",
        "\n",
        "print(miles.speak(\"Bow wow\"))"
      ],
      "metadata": {
        "colab": {
          "base_uri": "https://localhost:8080/"
        },
        "id": "ohfqSmxo73DM",
        "outputId": "b224469d-dd7b-4cdb-bbb7-a789380c24d0"
      },
      "execution_count": null,
      "outputs": [
        {
          "output_type": "stream",
          "name": "stdout",
          "text": [
            "Miles is 4 years old\n",
            "Miles says Woof Woof\n",
            "Miles says Bow wow\n"
          ]
        }
      ]
    },
    {
      "cell_type": "code",
      "source": [
        "print(miles)"
      ],
      "metadata": {
        "colab": {
          "base_uri": "https://localhost:8080/"
        },
        "id": "JuD-F3AV8HtV",
        "outputId": "b5d095e5-0398-4ca3-9531-66fe040774c9"
      },
      "execution_count": null,
      "outputs": [
        {
          "output_type": "stream",
          "name": "stdout",
          "text": [
            "<__main__.Dog object at 0x7f08b9844100>\n"
          ]
        }
      ]
    },
    {
      "cell_type": "markdown",
      "source": [
        "Use `__str__()` for changing default print of an instance  "
      ],
      "metadata": {
        "id": "lB1pcL8Q9uQQ"
      }
    },
    {
      "cell_type": "code",
      "source": [
        "class Dog:\n",
        "  species = \"Canis familiaris\"\n",
        "\n",
        "  def __init__(self, name, age):\n",
        "    self.name = name\n",
        "    self.age = age\n",
        "\n",
        "  # Instance method\n",
        "  def __str__(self):\n",
        "    return(\"{} is {} years old\".format(self.name, self.age))\n",
        "\n",
        "  def speak(self, sound):\n",
        "    return(\"{} says {}\".format(self.name, sound))"
      ],
      "metadata": {
        "id": "C7MJmDwl9OZu"
      },
      "execution_count": null,
      "outputs": []
    },
    {
      "cell_type": "code",
      "source": [
        "miles= Dog(\"Miles\",4)\n",
        "print(miles)"
      ],
      "metadata": {
        "colab": {
          "base_uri": "https://localhost:8080/"
        },
        "id": "SukK0RFj9oqE",
        "outputId": "cc32cec5-8b15-4f8f-d405-9ba63a1d1db3"
      },
      "execution_count": null,
      "outputs": [
        {
          "output_type": "stream",
          "name": "stdout",
          "text": [
            "Miles is 4 years old\n"
          ]
        }
      ]
    },
    {
      "cell_type": "markdown",
      "source": [
        "`.__init__()` and `.__str()` are dunder methods"
      ],
      "metadata": {
        "id": "G7jEuV8e9tVN"
      }
    },
    {
      "cell_type": "markdown",
      "source": [
        "#### Exercise 1\n",
        "\n",
        "Create a Car class with two instance attributes:\n",
        "\n",
        ".color, which stores the name of the car’s color as a string\n",
        ".mileage, which stores the number of miles on the car as an integer\n",
        "Then instantiate two Car objects—a blue car with 20,000 miles and a red car with 30,000 miles—and print out their colors and mileage."
      ],
      "metadata": {
        "id": "LHrJHFNPGad3"
      }
    },
    {
      "cell_type": "code",
      "source": [
        "class Car:\n",
        "  def __init__(self, color, mileage):\n",
        "    self.color = color\n",
        "    self.mileage = mileage\n",
        "\n",
        "  def __str__(self):\n",
        "    return(\"The {} car has {} miles\".format(self.color, self.mileage))"
      ],
      "metadata": {
        "id": "ccEZ8Kv2GjP3"
      },
      "execution_count": null,
      "outputs": []
    },
    {
      "cell_type": "code",
      "source": [
        "print(Car(\"blue\", 20000))\n",
        "print(Car(\"red\", 30000))"
      ],
      "metadata": {
        "colab": {
          "base_uri": "https://localhost:8080/"
        },
        "id": "GKTtv1KzGwFh",
        "outputId": "18a7cf1f-5731-4128-dae4-0fd2e0c55b79"
      },
      "execution_count": null,
      "outputs": [
        {
          "output_type": "stream",
          "name": "stdout",
          "text": [
            "The blue car has 20000 miles\n",
            "The red car has 30000 miles\n"
          ]
        }
      ]
    },
    {
      "cell_type": "markdown",
      "source": [
        "#### Inherit from other classes"
      ],
      "metadata": {
        "id": "2pNdpr_j-gp6"
      }
    },
    {
      "cell_type": "code",
      "source": [
        "class Dog:\n",
        "  species = \"Canis familiaris\"\n",
        "\n",
        "  def __init__(self, name, age, breed):\n",
        "    self.name = name\n",
        "    self.age = age\n",
        "    self.breed = breed\n",
        "  \n",
        "  def speak(self,sound):\n",
        "    return(\"{} says {}\".format(self.name, sound))"
      ],
      "metadata": {
        "id": "0ed9OtCs-tp6"
      },
      "execution_count": null,
      "outputs": []
    },
    {
      "cell_type": "code",
      "source": [
        "miles = Dog(\"Miles\", 4, \"Jack Russell Terrier\")\n",
        "buddy = Dog(\"Buddy\", 9, \"Dachshund\")\n",
        "jack = Dog(\"Jack\", 3, \"Bulldog\")\n",
        "jim = Dog(\"Jim\", 5, \"Bulldog\")"
      ],
      "metadata": {
        "id": "szT2UZ_P_Xal"
      },
      "execution_count": null,
      "outputs": []
    },
    {
      "cell_type": "code",
      "source": [
        "print(buddy.speak(\"Yap\"))\n",
        "print(jim.speak(\"Woof\"))\n",
        "print(jack.speak(\"Woof\"))"
      ],
      "metadata": {
        "colab": {
          "base_uri": "https://localhost:8080/"
        },
        "id": "NpLxZZ3h_vL8",
        "outputId": "f671af7f-8450-4cb7-c25c-0369afdbb97d"
      },
      "execution_count": null,
      "outputs": [
        {
          "output_type": "stream",
          "name": "stdout",
          "text": [
            "Buddy says Yap\n",
            "Jim says Woof\n",
            "Jack says Woof\n"
          ]
        }
      ]
    },
    {
      "cell_type": "markdown",
      "source": [
        "#### Parent Classes vs Child Classes"
      ],
      "metadata": {
        "id": "e5cADJWvANR4"
      }
    },
    {
      "cell_type": "code",
      "source": [
        "class Dog:\n",
        "  species = \"Canis familiaris\"\n",
        "\n",
        "  def __init__(self, name, age):\n",
        "    self.name = name\n",
        "    self.age = age\n",
        "\n",
        "  def __str__(self):\n",
        "    return(\"{} is {} years old\".format(self.name, self.age))\n",
        "  \n",
        "  def speak(self, sound):\n",
        "    return(\"{} says {}\".format(self.name, sound))"
      ],
      "metadata": {
        "id": "VrySgC3QAj24"
      },
      "execution_count": null,
      "outputs": []
    },
    {
      "cell_type": "code",
      "source": [
        "class JackRusselTerrier(Dog):\n",
        "  pass\n",
        "\n",
        "class Dachshund(Dog):\n",
        "  pass\n",
        "\n",
        "class Bulldog(Dog):\n",
        "  pass"
      ],
      "metadata": {
        "id": "HCdlCaObBEIb"
      },
      "execution_count": null,
      "outputs": []
    },
    {
      "cell_type": "code",
      "source": [
        "miles = JackRusselTerrier(\"Miles\", 4)\n",
        "buddy = Dachshund(\"Buddy\", 9)\n",
        "jack = Bulldog(\"Jack\", 3)\n",
        "jim = Bulldog(\"Jim\", 5)"
      ],
      "metadata": {
        "id": "SEq-RvE6BTrQ"
      },
      "execution_count": null,
      "outputs": []
    },
    {
      "cell_type": "code",
      "source": [
        "print(miles)"
      ],
      "metadata": {
        "colab": {
          "base_uri": "https://localhost:8080/"
        },
        "id": "rPY-1O6KBnSK",
        "outputId": "59f2e6b8-e2ae-437a-cecf-f7ae239e1f80"
      },
      "execution_count": null,
      "outputs": [
        {
          "output_type": "stream",
          "name": "stdout",
          "text": [
            "Miles is 4 years old\n"
          ]
        }
      ]
    },
    {
      "cell_type": "code",
      "source": [
        "miles.species"
      ],
      "metadata": {
        "colab": {
          "base_uri": "https://localhost:8080/",
          "height": 35
        },
        "id": "uOpI2xRyBv6U",
        "outputId": "fadc5ee9-9fb8-4af8-9c75-ee618e73c254"
      },
      "execution_count": null,
      "outputs": [
        {
          "output_type": "execute_result",
          "data": {
            "text/plain": [
              "'Canis familiaris'"
            ],
            "application/vnd.google.colaboratory.intrinsic+json": {
              "type": "string"
            }
          },
          "metadata": {},
          "execution_count": 49
        }
      ]
    },
    {
      "cell_type": "code",
      "source": [
        "jim.speak(\"Woof\")"
      ],
      "metadata": {
        "colab": {
          "base_uri": "https://localhost:8080/",
          "height": 35
        },
        "id": "o07jibk3ByIN",
        "outputId": "ffe44c7f-8b5e-49b8-ed05-ffb9ddc35ec0"
      },
      "execution_count": null,
      "outputs": [
        {
          "output_type": "execute_result",
          "data": {
            "text/plain": [
              "'Jim says Woof'"
            ],
            "application/vnd.google.colaboratory.intrinsic+json": {
              "type": "string"
            }
          },
          "metadata": {},
          "execution_count": 50
        }
      ]
    },
    {
      "cell_type": "code",
      "source": [
        "type(miles)"
      ],
      "metadata": {
        "colab": {
          "base_uri": "https://localhost:8080/"
        },
        "id": "9XqEsRYkB2qB",
        "outputId": "795f4f35-74b6-4a92-d595-589c55178dcc"
      },
      "execution_count": null,
      "outputs": [
        {
          "output_type": "execute_result",
          "data": {
            "text/plain": [
              "__main__.JackRusselTerrier"
            ]
          },
          "metadata": {},
          "execution_count": 51
        }
      ]
    },
    {
      "cell_type": "code",
      "source": [
        "isinstance(miles, Dog)"
      ],
      "metadata": {
        "colab": {
          "base_uri": "https://localhost:8080/"
        },
        "id": "O8Ky7qrOB4Y7",
        "outputId": "5bdb00d1-fa0f-47ee-fa03-16ebe8f9b5a4"
      },
      "execution_count": null,
      "outputs": [
        {
          "output_type": "execute_result",
          "data": {
            "text/plain": [
              "True"
            ]
          },
          "metadata": {},
          "execution_count": 52
        }
      ]
    },
    {
      "cell_type": "markdown",
      "source": [
        "#### Extend the Functionality of a Parent Class"
      ],
      "metadata": {
        "id": "GZk5GRuXB9Tq"
      }
    },
    {
      "cell_type": "markdown",
      "source": [
        "Overriding speak "
      ],
      "metadata": {
        "id": "D-qh12cnDdJE"
      }
    },
    {
      "cell_type": "code",
      "source": [
        "class JackRusselTerrier(Dog):\n",
        "  def speak(self, sound=\"Arf\"):\n",
        "    return(\"{} says {}\".format(self.name, sound))"
      ],
      "metadata": {
        "id": "wl4GmUG1CPh3"
      },
      "execution_count": null,
      "outputs": []
    },
    {
      "cell_type": "code",
      "source": [
        "miles = JackRusselTerrier(\"Miles\", 4)\n",
        "miles.speak()"
      ],
      "metadata": {
        "colab": {
          "base_uri": "https://localhost:8080/",
          "height": 35
        },
        "id": "Fyua6ea-Cn47",
        "outputId": "161635aa-e724-45e5-d335-e2b02cf872bc"
      },
      "execution_count": null,
      "outputs": [
        {
          "output_type": "execute_result",
          "data": {
            "text/plain": [
              "'Miles says Arf'"
            ],
            "application/vnd.google.colaboratory.intrinsic+json": {
              "type": "string"
            }
          },
          "metadata": {},
          "execution_count": 54
        }
      ]
    },
    {
      "cell_type": "code",
      "source": [
        "miles.speak(\"Grrr\")"
      ],
      "metadata": {
        "colab": {
          "base_uri": "https://localhost:8080/",
          "height": 35
        },
        "id": "Oaogsh7tCuGo",
        "outputId": "83819a02-7dad-4dc8-fa25-16ab0af4e8ea"
      },
      "execution_count": null,
      "outputs": [
        {
          "output_type": "execute_result",
          "data": {
            "text/plain": [
              "'Miles says Grrr'"
            ],
            "application/vnd.google.colaboratory.intrinsic+json": {
              "type": "string"
            }
          },
          "metadata": {},
          "execution_count": 55
        }
      ]
    },
    {
      "cell_type": "code",
      "source": [
        "jim = Bulldog(\"jim\", 5)\n",
        "jim.speak(\"Woof\")"
      ],
      "metadata": {
        "colab": {
          "base_uri": "https://localhost:8080/",
          "height": 35
        },
        "id": "o7L_o1B6CzSV",
        "outputId": "f1771555-45a2-49c3-c1d2-d648f08f2a08"
      },
      "execution_count": null,
      "outputs": [
        {
          "output_type": "execute_result",
          "data": {
            "text/plain": [
              "'jim says Woof'"
            ],
            "application/vnd.google.colaboratory.intrinsic+json": {
              "type": "string"
            }
          },
          "metadata": {},
          "execution_count": 57
        }
      ]
    },
    {
      "cell_type": "markdown",
      "source": [
        "Using `super` and not overriding "
      ],
      "metadata": {
        "id": "9sEUWW57DXAz"
      }
    },
    {
      "cell_type": "code",
      "source": [
        "class JackRusselTerrier(Dog):\n",
        "  def speak(self, sound=\"Arf\"):\n",
        "    return super().speak(sound)"
      ],
      "metadata": {
        "id": "pq60oCHYDwGZ"
      },
      "execution_count": null,
      "outputs": []
    },
    {
      "cell_type": "code",
      "source": [
        "miles = JackRusselTerrier(\"Miles\", 4)\n",
        "miles.speak()"
      ],
      "metadata": {
        "colab": {
          "base_uri": "https://localhost:8080/",
          "height": 35
        },
        "id": "fSnvmANvEmvq",
        "outputId": "c382252a-2df9-4ba0-f2fa-ec61b179de53"
      },
      "execution_count": null,
      "outputs": [
        {
          "output_type": "execute_result",
          "data": {
            "text/plain": [
              "'Miles says Arf'"
            ],
            "application/vnd.google.colaboratory.intrinsic+json": {
              "type": "string"
            }
          },
          "metadata": {},
          "execution_count": 59
        }
      ]
    },
    {
      "cell_type": "markdown",
      "source": [
        "#### Exercise 2\n",
        "\n",
        "Create a `GoldenRetriever` class that inherits from the Dog class. Give the sound argument of `GoldenRetriever.speak()` a default value of \"Bark\". Use the following code for your parent Dog class:\n",
        "\n"
      ],
      "metadata": {
        "id": "QP4Pmrp0Exo7"
      }
    },
    {
      "cell_type": "code",
      "source": [
        "class Dog:\n",
        "  species = \"Canis familiaris\"\n",
        "\n",
        "  def __init__(self, name, age):\n",
        "    self.name = name\n",
        "    self.age = age\n",
        "\n",
        "  # Instance method\n",
        "  def description(self):\n",
        "    return(\"{} is {} years old\".format(self.name, self.age))\n",
        "\n",
        "  def speak(self, sound):\n",
        "    return(\"{} says {}\".format(self.name, sound))"
      ],
      "metadata": {
        "id": "ol-XY0ZhIE4K"
      },
      "execution_count": null,
      "outputs": []
    },
    {
      "cell_type": "code",
      "source": [
        "class GoldenRetriever(Dog):\n",
        "  def speak(self, sound=\"Bark\"):\n",
        "    return super().speak(sound)"
      ],
      "metadata": {
        "id": "HqVexi5OIJ2L"
      },
      "execution_count": null,
      "outputs": []
    },
    {
      "cell_type": "code",
      "source": [
        "Joe = GoldenRetriever(\"Joe\", 10)\n",
        "Joe.speak()"
      ],
      "metadata": {
        "colab": {
          "base_uri": "https://localhost:8080/",
          "height": 35
        },
        "id": "H2ZJUO9PIl41",
        "outputId": "9bd79812-2198-4775-81f6-67d25676d461"
      },
      "execution_count": null,
      "outputs": [
        {
          "output_type": "execute_result",
          "data": {
            "text/plain": [
              "'Joe says Bark'"
            ],
            "application/vnd.google.colaboratory.intrinsic+json": {
              "type": "string"
            }
          },
          "metadata": {},
          "execution_count": 69
        }
      ]
    }
  ]
}